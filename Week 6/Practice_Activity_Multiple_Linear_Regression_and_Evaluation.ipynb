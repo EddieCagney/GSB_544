{
  "cells": [
    {
      "cell_type": "markdown",
      "metadata": {
        "id": "FdLoheP-mrxn"
      },
      "source": [
        "# Palmer Penguins Modeling\n",
        "\n",
        "Import the Palmer Penguins dataset and print out the first few rows.\n",
        "\n",
        "Suppose we want to predict `bill_depth_mm` using the other variables in the dataset.\n",
        "\n",
        "**Dummify** all variables that require this."
      ]
    },
    {
      "cell_type": "code",
      "execution_count": 1,
      "metadata": {},
      "outputs": [
        {
          "data": {
            "text/html": [
              "<div>\n",
              "<style scoped>\n",
              "    .dataframe tbody tr th:only-of-type {\n",
              "        vertical-align: middle;\n",
              "    }\n",
              "\n",
              "    .dataframe tbody tr th {\n",
              "        vertical-align: top;\n",
              "    }\n",
              "\n",
              "    .dataframe thead th {\n",
              "        text-align: right;\n",
              "    }\n",
              "</style>\n",
              "<table border=\"1\" class=\"dataframe\">\n",
              "  <thead>\n",
              "    <tr style=\"text-align: right;\">\n",
              "      <th></th>\n",
              "      <th>rowid</th>\n",
              "      <th>species</th>\n",
              "      <th>island</th>\n",
              "      <th>bill_length_mm</th>\n",
              "      <th>bill_depth_mm</th>\n",
              "      <th>flipper_length_mm</th>\n",
              "      <th>body_mass_g</th>\n",
              "      <th>sex</th>\n",
              "      <th>year</th>\n",
              "    </tr>\n",
              "  </thead>\n",
              "  <tbody>\n",
              "    <tr>\n",
              "      <th>0</th>\n",
              "      <td>1</td>\n",
              "      <td>Adelie</td>\n",
              "      <td>Torgersen</td>\n",
              "      <td>39.1</td>\n",
              "      <td>18.7</td>\n",
              "      <td>181.0</td>\n",
              "      <td>3750.0</td>\n",
              "      <td>male</td>\n",
              "      <td>2007</td>\n",
              "    </tr>\n",
              "    <tr>\n",
              "      <th>1</th>\n",
              "      <td>2</td>\n",
              "      <td>Adelie</td>\n",
              "      <td>Torgersen</td>\n",
              "      <td>39.5</td>\n",
              "      <td>17.4</td>\n",
              "      <td>186.0</td>\n",
              "      <td>3800.0</td>\n",
              "      <td>female</td>\n",
              "      <td>2007</td>\n",
              "    </tr>\n",
              "    <tr>\n",
              "      <th>2</th>\n",
              "      <td>3</td>\n",
              "      <td>Adelie</td>\n",
              "      <td>Torgersen</td>\n",
              "      <td>40.3</td>\n",
              "      <td>18.0</td>\n",
              "      <td>195.0</td>\n",
              "      <td>3250.0</td>\n",
              "      <td>female</td>\n",
              "      <td>2007</td>\n",
              "    </tr>\n",
              "    <tr>\n",
              "      <th>3</th>\n",
              "      <td>4</td>\n",
              "      <td>Adelie</td>\n",
              "      <td>Torgersen</td>\n",
              "      <td>NaN</td>\n",
              "      <td>NaN</td>\n",
              "      <td>NaN</td>\n",
              "      <td>NaN</td>\n",
              "      <td>NaN</td>\n",
              "      <td>2007</td>\n",
              "    </tr>\n",
              "    <tr>\n",
              "      <th>4</th>\n",
              "      <td>5</td>\n",
              "      <td>Adelie</td>\n",
              "      <td>Torgersen</td>\n",
              "      <td>36.7</td>\n",
              "      <td>19.3</td>\n",
              "      <td>193.0</td>\n",
              "      <td>3450.0</td>\n",
              "      <td>female</td>\n",
              "      <td>2007</td>\n",
              "    </tr>\n",
              "  </tbody>\n",
              "</table>\n",
              "</div>"
            ],
            "text/plain": [
              "   rowid species     island  bill_length_mm  bill_depth_mm  flipper_length_mm  body_mass_g     sex  year\n",
              "0      1  Adelie  Torgersen            39.1           18.7              181.0       3750.0    male  2007\n",
              "1      2  Adelie  Torgersen            39.5           17.4              186.0       3800.0  female  2007\n",
              "2      3  Adelie  Torgersen            40.3           18.0              195.0       3250.0  female  2007\n",
              "3      4  Adelie  Torgersen             NaN            NaN                NaN          NaN     NaN  2007\n",
              "4      5  Adelie  Torgersen            36.7           19.3              193.0       3450.0  female  2007"
            ]
          },
          "execution_count": null,
          "metadata": {},
          "output_type": "execute_result"
        }
      ],
      "source": [
        "import pandas as pd\n",
        "from sklearn.metrics import mean_squared_error, r2_score\n",
        "from sklearn.linear_model import LinearRegression\n",
        "from sklearn.model_selection import train_test_split\n",
        "\n",
        "dat = pd.read_csv(\"https://gist.githubusercontent.com/slopp/ce3b90b9168f2f921784de84fa445651/raw/4ecf3041f0ed4913e7c230758733948bc561f434/penguins.csv\")\n",
        "\n",
        "dat.head()"
      ]
    },
    {
      "cell_type": "code",
      "execution_count": 2,
      "metadata": {
        "id": "N5lG475yllju"
      },
      "outputs": [],
      "source": [
        "from pandas import get_dummies\n",
        "\n",
        "df = get_dummies(dat)\n",
        "df = df.dropna()"
      ]
    },
    {
      "cell_type": "markdown",
      "metadata": {
        "id": "TT1MVgaKm_gX"
      },
      "source": [
        "Let's use the other variables to predict `bill_depth_mm`. Prepare your data and fit the following models on a training dataset subset of the entire dataset:\n",
        "\n",
        "* Four different models, each containing a different set of predictor variables\n",
        "\n",
        "Create a plot like the right plot of Fig 1. in our `Model Validation` chapter with the training and test error plotted for each of your four models.\n",
        "\n",
        "Which of your models was best?"
      ]
    },
    {
      "cell_type": "code",
      "execution_count": 14,
      "metadata": {
        "id": "M6f7JWZTm6tn"
      },
      "outputs": [
        {
          "name": "stdout",
          "output_type": "stream",
          "text": [
            "0.6541565696946758\n",
            "0.7636010805318829\n"
          ]
        }
      ],
      "source": [
        "\n",
        "y = df['bill_depth_mm']\n",
        "X = df[['bill_length_mm', 'species_Chinstrap', 'species_Gentoo', 'sex_female']]\n",
        "\n",
        "lr = LinearRegression()\n",
        "\n",
        "X_train, X_test, y_train, y_test = train_test_split(X, y, test_size=0.25)\n",
        "\n",
        "lr_fit = lr.fit(X_train, y_train)\n",
        "\n",
        "y_pred_lrfit_train = lr_fit.predict(X_train)\n",
        "mse_train_lrfit = mean_squared_error(y_train, y_pred_lrfit_train)\n",
        "\n",
        "y_pred_lrfit_test = lr_fit.predict(X_test)\n",
        "mse_test_lrfit = mean_squared_error(y_test, y_pred_lrfit_test)\n",
        "\n",
        "print(mse_train_lrfit)\n",
        "print(mse_test_lrfit)\n",
        "\n"
      ]
    },
    {
      "cell_type": "code",
      "execution_count": 15,
      "metadata": {},
      "outputs": [
        {
          "name": "stdout",
          "output_type": "stream",
          "text": [
            "0.6843027287582198\n",
            "0.6699396021445136\n"
          ]
        }
      ],
      "source": [
        "# Model 2\n",
        "y2 = df['bill_depth_mm']\n",
        "X2 = df[['bill_length_mm', 'species_Chinstrap', 'species_Gentoo', 'sex_female', 'island_Biscoe', 'island_Dream']]\n",
        "\n",
        "X_train2, X_test2, y_train2, y_test2 = train_test_split(X2, y2, test_size=0.25)\n",
        "\n",
        "lr_fit2 = lr.fit(X_train2, y_train2)\n",
        "\n",
        "y_pred_lrfit2_train = lr_fit.predict(X_train2)\n",
        "mse_train_lrfit2 = mean_squared_error(y_train2, y_pred_lrfit2_train)\n",
        "\n",
        "y_pred_lrfit2_test = lr_fit.predict(X_test2)\n",
        "mse_test_lrfit2 = mean_squared_error(y_test2, y_pred_lrfit2_test)\n",
        "\n",
        "print(mse_train_lrfit2)\n",
        "print(mse_test_lrfit2)"
      ]
    },
    {
      "cell_type": "code",
      "execution_count": 16,
      "metadata": {},
      "outputs": [
        {
          "name": "stdout",
          "output_type": "stream",
          "text": [
            "0.9252860635633844\n",
            "0.8256488423048272\n"
          ]
        }
      ],
      "source": [
        "# Model 3\n",
        "y3 = df['bill_depth_mm']\n",
        "X3 = df[['bill_length_mm', 'species_Chinstrap', 'species_Gentoo']]\n",
        "\n",
        "X_train3, X_test3, y_train3, y_test3 = train_test_split(X3, y3, test_size=0.25)\n",
        "\n",
        "lr_fit3 = lr.fit(X_train3, y_train3)\n",
        "\n",
        "y_pred_lrfit3_train = lr_fit3.predict(X_train3)\n",
        "mse_train_lrfit3 = mean_squared_error(y_train3, y_pred_lrfit3_train)\n",
        "\n",
        "y_pred_lrfit3_test = lr_fit3.predict(X_test3)\n",
        "mse_test_lrfit3 = mean_squared_error(y_test3, y_pred_lrfit3_test)\n",
        "\n",
        "print(mse_train_lrfit3)\n",
        "print(mse_test_lrfit3)"
      ]
    },
    {
      "cell_type": "code",
      "execution_count": 17,
      "metadata": {},
      "outputs": [
        {
          "name": "stdout",
          "output_type": "stream",
          "text": [
            "0.6214289050475702\n",
            "0.639345598782726\n"
          ]
        }
      ],
      "source": [
        "# Model 4\n",
        "y4 = df['bill_depth_mm']\n",
        "X4 = df[['bill_length_mm', 'flipper_length_mm', 'body_mass_g','species_Chinstrap', 'species_Gentoo', 'sex_female', 'island_Biscoe', 'island_Dream']]\n",
        "\n",
        "X_train4, X_test4, y_train4, y_test4 = train_test_split(X4, y4, test_size=0.25)\n",
        "\n",
        "lr_fit4 = lr.fit(X_train4, y_train4)\n",
        "\n",
        "y_pred_lrfit4_train = lr_fit4.predict(X_train4)\n",
        "mse_train_lrfit4 = mean_squared_error(y_train4, y_pred_lrfit4_train)\n",
        "\n",
        "y_pred_lrfit4_test = lr_fit4.predict(X_test4)\n",
        "mse_test_lrfit4 = mean_squared_error(y_test4, y_pred_lrfit4_test)\n",
        "\n",
        "print(mse_train_lrfit4)\n",
        "print(mse_test_lrfit4)"
      ]
    },
    {
      "cell_type": "code",
      "execution_count": 31,
      "metadata": {},
      "outputs": [],
      "source": [
        "error_df = pd.DataFrame({\n",
        "    \"num_of_predictors\": [3, 4, 2, 6],\n",
        "    \"MSE_test\": [0.8356523637287436, 0.6699396021445136, 0.8256488423048272, 0.639345598782726],\n",
        "    \"MSE_train\": [0.6307274721941736, 0.6843027287582198, 0.9252860635633844, 0.6214289050475702]\n",
        "})"
      ]
    },
    {
      "cell_type": "code",
      "execution_count": 19,
      "metadata": {},
      "outputs": [],
      "source": [
        "from plotnine import *\n"
      ]
    },
    {
      "cell_type": "code",
      "execution_count": null,
      "metadata": {},
      "outputs": [
        {
          "data": {
            "image/png": "[encoded data removed]",
            "text/plain": [
              "<Figure size 640x480 with 1 Axes>"
            ]
          },
          "metadata": {},
          "output_type": "display_data"
        }
      ],
      "source": [
        "\n",
        "(ggplot(error_df,\n",
        "aes(x = 'num_of_predictors', y = 'MSE_train'))\n",
        "+ geom_point(aes(x = 'num_of_predictors', y = 'MSE_train'), color = 'green', size = 2)\n",
        "+ geom_point(aes(x = 'num_of_predictors', y = 'MSE_test'), color = 'blue', size = 2)\n",
        "+ geom_line(aes(x = 'num_of_predictors', y = 'MSE_train'))\n",
        "+ geom_line(aes(x = 'num_of_predictors', y = 'MSE_test'))\n",
        "\n",
        "\n",
        "\n",
        ")\n",
        "\n",
        "# Green points are training data and blue are test data"
      ]
    },
    {
      "cell_type": "markdown",
      "metadata": {},
      "source": [
        "Looking at the plot (green is training, blue is test), the model that seemed to fit our data the best was the model with 6 predictors, seeing as the MSE is the lowest. If I included a model with all the predictors, we would proably see the MSE increase when number of predictors increases beyond 6 for our test data (blue points)."
      ]
    }
  ],
  "metadata": {
    "colab": {
      "provenance": []
    },
    "kernelspec": {
      "display_name": "Python 3",
      "name": "python3"
    },
    "language_info": {
      "name": "python"
    }
  },
  "nbformat": 4,
  "nbformat_minor": 0
}
