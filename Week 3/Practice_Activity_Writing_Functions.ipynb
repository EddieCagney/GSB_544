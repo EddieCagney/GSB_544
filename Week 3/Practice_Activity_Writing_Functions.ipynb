{
  "cells": [
    {
      "cell_type": "code",
      "execution_count": null,
      "metadata": {
        "colab": {
          "base_uri": "https://localhost:8080/"
        },
        "id": "ft_WYOPgkcCM",
        "outputId": "c2626d91-62ce-4018-ce5e-6a54c96636f6"
      },
      "outputs": [
        {
          "name": "stdout",
          "output_type": "stream",
          "text": [
            "Collecting palmerpenguinsNote: you may need to restart the kernel to use updated packages.\n",
            "\n",
            "  Downloading palmerpenguins-0.1.4-py3-none-any.whl.metadata (2.0 kB)\n",
            "Requirement already satisfied: pandas in c:\\users\\eddie\\anaconda3\\lib\\site-packages (from palmerpenguins) (2.2.3)\n",
            "Requirement already satisfied: numpy in c:\\users\\eddie\\anaconda3\\lib\\site-packages (from palmerpenguins) (2.1.3)\n",
            "Requirement already satisfied: python-dateutil>=2.8.2 in c:\\users\\eddie\\appdata\\local\\programs\\positron\\resources\\app\\extensions\\positron-python\\python_files\\lib\\ipykernel\\py3 (from pandas->palmerpenguins) (2.9.0.post0)\n",
            "Requirement already satisfied: pytz>=2020.1 in c:\\users\\eddie\\anaconda3\\lib\\site-packages (from pandas->palmerpenguins) (2024.1)\n",
            "Requirement already satisfied: tzdata>=2022.7 in c:\\users\\eddie\\anaconda3\\lib\\site-packages (from pandas->palmerpenguins) (2025.2)\n",
            "Requirement already satisfied: six>=1.5 in c:\\users\\eddie\\appdata\\local\\programs\\positron\\resources\\app\\extensions\\positron-python\\python_files\\lib\\ipykernel\\py3 (from python-dateutil>=2.8.2->pandas->palmerpenguins) (1.17.0)\n",
            "Downloading palmerpenguins-0.1.4-py3-none-any.whl (17 kB)\n",
            "Installing collected packages: palmerpenguins\n",
            "Successfully installed palmerpenguins-0.1.4\n"
          ]
        }
      ],
      "source": [
        "#pip install palmerpenguins"
      ]
    },
    {
      "cell_type": "code",
      "execution_count": 3,
      "metadata": {
        "id": "b69ul3XcoRQv"
      },
      "outputs": [],
      "source": [
        "import numpy as np\n",
        "import pandas as pd\n",
        "from sys import exit\n",
        "from palmerpenguins import load_penguins\n",
        "from plotnine import ggplot, aes, geom_point, geom_bar"
      ]
    },
    {
      "cell_type": "markdown",
      "metadata": {
        "id": "1Q8_a-5qociG"
      },
      "source": [
        "1. Fill in the necessary code to write a function called `times_seven()`. The function should take a single argument (`x`) and multiply the input by 7.\n",
        "  + This function should check that the argument is numeric.\n",
        "  + This function should also excitedly announce (print) *“I love sevens!”* if the argument to the function is a 7."
      ]
    },
    {
      "cell_type": "code",
      "execution_count": 9,
      "metadata": {
        "id": "l5CW0nuloYzy"
      },
      "outputs": [],
      "source": [
        "def times_seven(x):\n",
        "\n",
        "  if not isinstance(x, (int, float)):\n",
        "    exit(\"Please enter numeric value\")\n",
        "\n",
        "  if isinstance(x, (int, float)):\n",
        "    print(\"I love sevens!\")\n",
        "\n",
        "  return x * 7\n"
      ]
    },
    {
      "cell_type": "markdown",
      "metadata": {
        "id": "nonjYlruotrq"
      },
      "source": [
        "2. Write and run some *unit tests* for your `times_seven` function.  What happens if the input to the function is `[1, 3, 5, 7]`?"
      ]
    },
    {
      "cell_type": "code",
      "execution_count": 13,
      "metadata": {},
      "outputs": [
        {
          "name": "stdout",
          "output_type": "stream",
          "text": [
            "I love sevens!\n"
          ]
        },
        {
          "data": {
            "text/plain": [
              "28"
            ]
          },
          "execution_count": null,
          "metadata": {},
          "output_type": "execute_result"
        }
      ],
      "source": [
        "times_seven(4)"
      ]
    },
    {
      "cell_type": "code",
      "execution_count": 14,
      "metadata": {},
      "outputs": [
        {
          "ename": "SystemExit",
          "evalue": "Please enter numeric value",
          "output_type": "error",
          "traceback": [
            "An exception has occurred, use %tb to see the full traceback.\n",
            "\n",
            "\u001b[1;31mSystemExit\u001b[0m\u001b[1;31m:\u001b[0m Please enter numeric value\n"
          ]
        }
      ],
      "source": [
        "times_seven(\"tree sap\")"
      ]
    },
    {
      "cell_type": "markdown",
      "metadata": {
        "id": "98sLHKBno39e"
      },
      "source": [
        "3. Consider the following function:"
      ]
    },
    {
      "cell_type": "code",
      "execution_count": 16,
      "metadata": {
        "id": "V1xGEwq-o5mh"
      },
      "outputs": [],
      "source": [
        "def add_or_subtract(first_num, second_num = 2, type = \"add\"):\n",
        "\n",
        "  if (type == \"add\"):\n",
        "    res = first_num + second_num\n",
        "  elif (type == \"subtract\"):\n",
        "    res = first_num - second_num\n",
        "  else:\n",
        "    exit(\"Please choose `add` or `subtract` as the type.\")\n",
        "\n",
        "    return res"
      ]
    },
    {
      "cell_type": "markdown",
      "metadata": {
        "id": "KIzEYgR1pI0K"
      },
      "source": [
        "**Without running the code**, predict if the following will produce:\n",
        "\n",
        "a. 1\n",
        "\n",
        "b. -1\n",
        "\n",
        "c. 30\n",
        "\n",
        "d. An error defined by the function `add_or_subtract()`\n",
        "\n",
        "e. An error defined in a different function, which is called inside the `add_or_subtract()` function"
      ]
    },
    {
      "cell_type": "code",
      "execution_count": 17,
      "metadata": {
        "id": "AKN_fkigpHIS"
      },
      "outputs": [
        {
          "ename": "TypeError",
          "evalue": "can only concatenate str (not \"int\") to str",
          "output_type": "error",
          "traceback": [
            "\u001b[1;31m---------------------------------------------------------------------------\u001b[0m\n",
            "\u001b[1;31mTypeError\u001b[0m                                 Traceback (most recent call last)\n",
            "Cell \u001b[1;32mIn[17], line 3\u001b[0m\n",
            "\u001b[0;32m      1\u001b[0m add_or_subtract(\u001b[38;5;241m5\u001b[39m, \u001b[38;5;241m6\u001b[39m, \u001b[38;5;28mtype\u001b[39m \u001b[38;5;241m=\u001b[39m \u001b[38;5;124m\"\u001b[39m\u001b[38;5;124msubtract\u001b[39m\u001b[38;5;124m\"\u001b[39m)\n",
            "\u001b[1;32m----> 3\u001b[0m \u001b[43madd_or_subtract\u001b[49m\u001b[43m(\u001b[49m\u001b[38;5;124;43m\"\u001b[39;49m\u001b[38;5;124;43morange\u001b[39;49m\u001b[38;5;124;43m\"\u001b[39;49m\u001b[43m)\u001b[49m\n",
            "\u001b[0;32m      5\u001b[0m add_or_subtract(\u001b[38;5;241m5\u001b[39m, \u001b[38;5;241m6\u001b[39m, \u001b[38;5;28mtype\u001b[39m \u001b[38;5;241m=\u001b[39m \u001b[38;5;124m\"\u001b[39m\u001b[38;5;124mmultiply\u001b[39m\u001b[38;5;124m\"\u001b[39m)\n",
            "\n",
            "Cell \u001b[1;32mIn[16], line 4\u001b[0m, in \u001b[0;36madd_or_subtract\u001b[1;34m(first_num, second_num, type)\u001b[0m\n",
            "\u001b[0;32m      1\u001b[0m \u001b[38;5;28;01mdef\u001b[39;00m\u001b[38;5;250m \u001b[39m\u001b[38;5;21madd_or_subtract\u001b[39m(first_num, second_num \u001b[38;5;241m=\u001b[39m \u001b[38;5;241m2\u001b[39m, \u001b[38;5;28mtype\u001b[39m \u001b[38;5;241m=\u001b[39m \u001b[38;5;124m\"\u001b[39m\u001b[38;5;124madd\u001b[39m\u001b[38;5;124m\"\u001b[39m):\n",
            "\u001b[0;32m      3\u001b[0m   \u001b[38;5;28;01mif\u001b[39;00m (\u001b[38;5;28mtype\u001b[39m \u001b[38;5;241m==\u001b[39m \u001b[38;5;124m\"\u001b[39m\u001b[38;5;124madd\u001b[39m\u001b[38;5;124m\"\u001b[39m):\n",
            "\u001b[1;32m----> 4\u001b[0m     res \u001b[38;5;241m=\u001b[39m \u001b[43mfirst_num\u001b[49m\u001b[43m \u001b[49m\u001b[38;5;241;43m+\u001b[39;49m\u001b[43m \u001b[49m\u001b[43msecond_num\u001b[49m\n",
            "\u001b[0;32m      5\u001b[0m   \u001b[38;5;28;01melif\u001b[39;00m (\u001b[38;5;28mtype\u001b[39m \u001b[38;5;241m==\u001b[39m \u001b[38;5;124m\"\u001b[39m\u001b[38;5;124msubtract\u001b[39m\u001b[38;5;124m\"\u001b[39m):\n",
            "\u001b[0;32m      6\u001b[0m     res \u001b[38;5;241m=\u001b[39m first_num \u001b[38;5;241m-\u001b[39m second_num\n",
            "\n",
            "\u001b[1;31mTypeError\u001b[0m: can only concatenate str (not \"int\") to str"
          ]
        }
      ],
      "source": [
        "add_or_subtract(5, 6, type = \"subtract\")\n",
        "\n",
        "add_or_subtract(\"orange\")\n",
        "\n",
        "add_or_subtract(5, 6, type = \"multiply\")"
      ]
    },
    {
      "cell_type": "markdown",
      "metadata": {},
      "source": [
        "I believe the first one will result in b, -1. \n",
        "The second will result in d.\n",
        "The third will result in e. "
      ]
    },
    {
      "cell_type": "markdown",
      "metadata": {
        "id": "Z0_cVjgdpOSr"
      },
      "source": [
        "4. Consider the following code:"
      ]
    },
    {
      "cell_type": "code",
      "execution_count": null,
      "metadata": {
        "id": "G4ImmGWGpekK"
      },
      "outputs": [],
      "source": [
        "first_num  = 5\n",
        "second_num = 3\n",
        "\n",
        "result = 8\n",
        "\n",
        "result = add_or_subtract(first_num, second_num = 4)\n",
        "\n",
        "result_2 = add_or_subtract(first_num)"
      ]
    },
    {
      "cell_type": "markdown",
      "metadata": {
        "id": "K0I7k29Qpjfo"
      },
      "source": [
        "\n",
        "In your Global Environment, what is the value of...\n",
        "\n",
        "a. `first_num`\n",
        "\n",
        "b. `second_num`\n",
        "\n",
        "c. `result`\n",
        "\n",
        "d. `result_2`"
      ]
    },
    {
      "cell_type": "markdown",
      "metadata": {},
      "source": [
        "The value of first_num is 5, second num is 3, result is 8, result_2 is 9."
      ]
    }
  ],
  "metadata": {
    "colab": {
      "provenance": []
    },
    "kernelspec": {
      "display_name": "Python 3",
      "name": "python3"
    },
    "language_info": {
      "name": "python"
    }
  },
  "nbformat": 4,
  "nbformat_minor": 0
}
