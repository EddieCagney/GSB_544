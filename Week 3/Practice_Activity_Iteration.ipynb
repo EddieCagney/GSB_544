{
  "cells": [
    {
      "cell_type": "markdown",
      "metadata": {
        "id": "8p1mF9p_njvq"
      },
      "source": [
        "0. Load the `penguins` dataset from the `palmerpenguins` library, as well as any other libraries you need.\n",
        "\n"
      ]
    },
    {
      "cell_type": "code",
      "execution_count": 12,
      "metadata": {
        "id": "B0wyLoBRngwh"
      },
      "outputs": [
        {
          "data": {
            "text/html": [
              "<div>\n",
              "<style scoped>\n",
              "    .dataframe tbody tr th:only-of-type {\n",
              "        vertical-align: middle;\n",
              "    }\n",
              "\n",
              "    .dataframe tbody tr th {\n",
              "        vertical-align: top;\n",
              "    }\n",
              "\n",
              "    .dataframe thead th {\n",
              "        text-align: right;\n",
              "    }\n",
              "</style>\n",
              "<table border=\"1\" class=\"dataframe\">\n",
              "  <thead>\n",
              "    <tr style=\"text-align: right;\">\n",
              "      <th></th>\n",
              "      <th>species</th>\n",
              "      <th>island</th>\n",
              "      <th>bill_length_mm</th>\n",
              "      <th>bill_depth_mm</th>\n",
              "      <th>flipper_length_mm</th>\n",
              "      <th>body_mass_g</th>\n",
              "      <th>sex</th>\n",
              "      <th>year</th>\n",
              "    </tr>\n",
              "  </thead>\n",
              "  <tbody>\n",
              "    <tr>\n",
              "      <th>0</th>\n",
              "      <td>Adelie</td>\n",
              "      <td>Torgersen</td>\n",
              "      <td>39.1</td>\n",
              "      <td>18.7</td>\n",
              "      <td>181.0</td>\n",
              "      <td>3750.0</td>\n",
              "      <td>male</td>\n",
              "      <td>2007</td>\n",
              "    </tr>\n",
              "    <tr>\n",
              "      <th>1</th>\n",
              "      <td>Adelie</td>\n",
              "      <td>Torgersen</td>\n",
              "      <td>39.5</td>\n",
              "      <td>17.4</td>\n",
              "      <td>186.0</td>\n",
              "      <td>3800.0</td>\n",
              "      <td>female</td>\n",
              "      <td>2007</td>\n",
              "    </tr>\n",
              "    <tr>\n",
              "      <th>2</th>\n",
              "      <td>Adelie</td>\n",
              "      <td>Torgersen</td>\n",
              "      <td>40.3</td>\n",
              "      <td>18.0</td>\n",
              "      <td>195.0</td>\n",
              "      <td>3250.0</td>\n",
              "      <td>female</td>\n",
              "      <td>2007</td>\n",
              "    </tr>\n",
              "    <tr>\n",
              "      <th>3</th>\n",
              "      <td>Adelie</td>\n",
              "      <td>Torgersen</td>\n",
              "      <td>NaN</td>\n",
              "      <td>NaN</td>\n",
              "      <td>NaN</td>\n",
              "      <td>NaN</td>\n",
              "      <td>NaN</td>\n",
              "      <td>2007</td>\n",
              "    </tr>\n",
              "    <tr>\n",
              "      <th>4</th>\n",
              "      <td>Adelie</td>\n",
              "      <td>Torgersen</td>\n",
              "      <td>36.7</td>\n",
              "      <td>19.3</td>\n",
              "      <td>193.0</td>\n",
              "      <td>3450.0</td>\n",
              "      <td>female</td>\n",
              "      <td>2007</td>\n",
              "    </tr>\n",
              "  </tbody>\n",
              "</table>\n",
              "</div>"
            ],
            "text/plain": [
              "  species     island  bill_length_mm  ...  body_mass_g     sex  year\n",
              "0  Adelie  Torgersen            39.1  ...       3750.0    male  2007\n",
              "1  Adelie  Torgersen            39.5  ...       3800.0  female  2007\n",
              "2  Adelie  Torgersen            40.3  ...       3250.0  female  2007\n",
              "3  Adelie  Torgersen             NaN  ...          NaN     NaN  2007\n",
              "4  Adelie  Torgersen            36.7  ...       3450.0  female  2007\n",
              "\n",
              "[5 rows x 8 columns]"
            ]
          },
          "execution_count": null,
          "metadata": {},
          "output_type": "execute_result"
        }
      ],
      "source": [
        "from palmerpenguins import load_penguins\n",
        "penguins = load_penguins()\n",
        "penguins.head()\n"
      ]
    },
    {
      "cell_type": "markdown",
      "metadata": {
        "id": "LUURcsjcnrA3"
      },
      "source": [
        "1. Write a function that takes in information about a penguin, and returns one of the following definitions:\n",
        "\n",
        "*   \"Big Mouth Billy\": Male penguins with bill length times bill depth greater than 800.\n",
        "*   \"Dainty Daisy\": Female penguins with flipper length less than 5% of body mass.\n",
        "*   \"Average Adelie:\" Any Adelie penguins that do not fall into either category.\n",
        "*   \"Other\": Any penguins that do not fall into any of the categories.\n",
        "\n"
      ]
    },
    {
      "cell_type": "code",
      "execution_count": 20,
      "metadata": {
        "id": "udKVPIJmpKG_"
      },
      "outputs": [
        {
          "data": {
            "text/plain": [
              "0       Average Adelie\n",
              "1         Dainty Daisy\n",
              "2       Average Adelie\n",
              "3       Average Adelie\n",
              "4       Average Adelie\n",
              "            ...       \n",
              "339    Big Mouth Billy\n",
              "340              Other\n",
              "341    Big Mouth Billy\n",
              "342    Big Mouth Billy\n",
              "343              Other\n",
              "Length: 344, dtype: object"
            ]
          },
          "execution_count": null,
          "metadata": {},
          "output_type": "execute_result"
        }
      ],
      "source": [
        "def names(sex, bill_length, bill_depth, flip_length, body, species):\n",
        "    if sex == 'male' and bill_length*bill_depth > 800:\n",
        "        x = \"Big Mouth Billy\"\n",
        "        return x\n",
        "    elif sex == 'female' and flip_length < (0.05 * body):\n",
        "        x = \"Dainty Daisy\"\n",
        "        return x\n",
        "    elif species == \"Adelie\":\n",
        "        x = \"Average Adelie\"\n",
        "        return x\n",
        "    else:\n",
        "       x = \"Other\"\n",
        "       return x \n",
        "            \n",
        "\n",
        "penguins.apply(lambda x: names(x['sex'], x['bill_length_mm'], x['bill_depth_mm'], x['flipper_length_mm'], x['body_mass_g'], x['species']), axis=1)\n"
      ]
    },
    {
      "cell_type": "markdown",
      "metadata": {
        "id": "L3cOiPwJo_q5"
      },
      "source": [
        "2. Use an iterable function to create a new variable called `category_name` that adds these labels."
      ]
    },
    {
      "cell_type": "code",
      "execution_count": 21,
      "metadata": {
        "id": "AJk_DHBDpKvV"
      },
      "outputs": [],
      "source": [
        "penguins['category_name'] = penguins.apply(lambda x: names(x['sex'], x['bill_length_mm'], x['bill_depth_mm'], x['flipper_length_mm'], x['body_mass_g'], x['species']), axis=1)\n"
      ]
    },
    {
      "cell_type": "markdown",
      "metadata": {
        "id": "wzjur3hzpLxr"
      },
      "source": [
        "3. Run the following code to find the counts for each type."
      ]
    },
    {
      "cell_type": "code",
      "execution_count": 22,
      "metadata": {
        "id": "iDHDAKOXpPOm"
      },
      "outputs": [
        {
          "data": {
            "text/plain": [
              "category_name\n",
              "Average Adelie     127\n",
              "Other               84\n",
              "Big Mouth Billy     71\n",
              "Dainty Daisy        62\n",
              "Name: count, dtype: int64"
            ]
          },
          "execution_count": null,
          "metadata": {},
          "output_type": "execute_result"
        }
      ],
      "source": [
        "penguins.value_counts(\"category_name\")"
      ]
    }
  ],
  "metadata": {
    "colab": {
      "provenance": []
    },
    "kernelspec": {
      "display_name": "Python 3",
      "name": "python3"
    },
    "language_info": {
      "name": "python"
    }
  },
  "nbformat": 4,
  "nbformat_minor": 0
}
